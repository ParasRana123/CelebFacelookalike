{
 "cells": [
  {
   "cell_type": "code",
   "execution_count": 1,
   "id": "e93c5c9f",
   "metadata": {},
   "outputs": [],
   "source": [
    "# Load the image---> face detection and extarct its features\n",
    "# Find the cosine distance of the current image with all the other 8665 features...\n",
    "# Recommand that image"
   ]
  },
  {
   "cell_type": "code",
   "execution_count": 2,
   "id": "548bbb25",
   "metadata": {},
   "outputs": [],
   "source": [
    "from keras_vggface.utils import preprocess_input\n",
    "from keras_vggface.vggface import VGGFace\n",
    "import numpy as np\n",
    "import pickle\n",
    "from sklearn.metrics.pairwise import cosine_similarity\n",
    "import cv2\n",
    "from mtcnn import MTCNN\n",
    "from PIL import Image"
   ]
  },
  {
   "cell_type": "code",
   "execution_count": 3,
   "id": "1ad4ae69",
   "metadata": {},
   "outputs": [],
   "source": [
    "feature_list = np.array(pickle.load(open('embedding.pkl' , 'rb'))) "
   ]
  },
  {
   "cell_type": "code",
   "execution_count": 4,
   "id": "6ae313eb",
   "metadata": {},
   "outputs": [],
   "source": [
    "filenames = pickle.load(open('filenames.pkl' , 'rb'))"
   ]
  },
  {
   "cell_type": "code",
   "execution_count": 5,
   "id": "19fcde90",
   "metadata": {},
   "outputs": [],
   "source": [
    "model = VGGFace(model='resnet50' , include_top=False , input_shape=(224 , 224 ,3) , pooling='avg')"
   ]
  },
  {
   "cell_type": "code",
   "execution_count": 6,
   "id": "1ed647db",
   "metadata": {},
   "outputs": [],
   "source": [
    "detector = MTCNN()"
   ]
  },
  {
   "cell_type": "code",
   "execution_count": 7,
   "id": "02ba943e",
   "metadata": {},
   "outputs": [],
   "source": [
    "sample_img = cv2.imread('sample/shahruk_dup.jpg')"
   ]
  },
  {
   "cell_type": "code",
   "execution_count": 8,
   "id": "38ceca5d",
   "metadata": {},
   "outputs": [],
   "source": [
    "results = detector.detect_faces(sample_img)"
   ]
  },
  {
   "cell_type": "code",
   "execution_count": 9,
   "id": "af153dfa",
   "metadata": {},
   "outputs": [],
   "source": [
    "x , y , width , height = results[0]['box']"
   ]
  },
  {
   "cell_type": "code",
   "execution_count": 10,
   "id": "6191bd74",
   "metadata": {},
   "outputs": [],
   "source": [
    "face = sample_img[y:y+width , x:x+height]\n",
    "# cv2.imshow('output' , face)"
   ]
  },
  {
   "cell_type": "code",
   "execution_count": 11,
   "id": "2a878365",
   "metadata": {},
   "outputs": [],
   "source": [
    "# Ectracting the features...\n",
    "image = Image.fromarray(face)\n",
    "image = image.resize((224 , 224))"
   ]
  },
  {
   "cell_type": "code",
   "execution_count": 12,
   "id": "84cea939",
   "metadata": {},
   "outputs": [],
   "source": [
    "face_array = np.asarray(image )\n",
    "face_array = face_array.astype('float64')"
   ]
  },
  {
   "cell_type": "code",
   "execution_count": 13,
   "id": "4821dbea",
   "metadata": {},
   "outputs": [],
   "source": [
    "expanded_img = np.expand_dims(face_array , axis=0)"
   ]
  },
  {
   "cell_type": "code",
   "execution_count": 14,
   "id": "92962ee6",
   "metadata": {},
   "outputs": [],
   "source": [
    "preprocessed_img = preprocess_input(expanded_img)"
   ]
  },
  {
   "cell_type": "code",
   "execution_count": 15,
   "id": "27223527",
   "metadata": {},
   "outputs": [],
   "source": [
    "result = model.predict(preprocessed_img).flatten()"
   ]
  },
  {
   "cell_type": "code",
   "execution_count": 16,
   "id": "b187cdd5",
   "metadata": {},
   "outputs": [
    {
     "name": "stdout",
     "output_type": "stream",
     "text": [
      "0.09560734\n"
     ]
    }
   ],
   "source": [
    "# print(result)\n",
    "# print(result.shape)\n",
    "print(cosine_similarity(result.reshape(1 , -1) , feature_list[0].reshape(1 , -1))[0][0])"
   ]
  },
  {
   "cell_type": "code",
   "execution_count": 17,
   "id": "6d4df9b2",
   "metadata": {},
   "outputs": [],
   "source": [
    "similarity = []\n",
    "for i in range(len(feature_list)):\n",
    "    similarity.append(cosine_similarity(result.reshape(1 , -1) , feature_list[i].reshape(1 , -1))[0][0])\n",
    "    \n",
    "# print(list(enumerate(similarity)))    \n",
    "index_pos = sorted(list(enumerate(similarity)), reverse=True , key=lambda x:x[1])[0][0]"
   ]
  },
  {
   "cell_type": "code",
   "execution_count": 18,
   "id": "8c2246fe",
   "metadata": {},
   "outputs": [
    {
     "data": {
      "text/plain": [
       "-1"
      ]
     },
     "execution_count": 18,
     "metadata": {},
     "output_type": "execute_result"
    }
   ],
   "source": [
    "temp_img = cv2.imread(filenames[index_pos])\n",
    "cv2.imshow('output' , temp_img)\n",
    "cv2.waitKey(0)"
   ]
  },
  {
   "cell_type": "code",
   "execution_count": null,
   "id": "871a99f6",
   "metadata": {},
   "outputs": [],
   "source": []
  }
 ],
 "metadata": {
  "kernelspec": {
   "display_name": "Python 3 (ipykernel)",
   "language": "python",
   "name": "python3"
  },
  "language_info": {
   "codemirror_mode": {
    "name": "ipython",
    "version": 3
   },
   "file_extension": ".py",
   "mimetype": "text/x-python",
   "name": "python",
   "nbconvert_exporter": "python",
   "pygments_lexer": "ipython3",
   "version": "3.7.9"
  }
 },
 "nbformat": 4,
 "nbformat_minor": 5
}
